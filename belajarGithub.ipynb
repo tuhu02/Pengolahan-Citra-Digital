{
 "cells": [
  {
   "cell_type": "markdown",
   "id": "11c76f77",
   "metadata": {},
   "source": [
    "Operasi pada citra"
   ]
  },
  {
   "cell_type": "markdown",
   "id": "e49db8b4",
   "metadata": {},
   "source": [
    "menggunakan library PIL (Python Image Library)"
   ]
  },
  {
   "cell_type": "code",
   "execution_count": null,
   "id": "fe06864e",
   "metadata": {},
   "outputs": [],
   "source": [
    "from PIL import Image"
   ]
  },
  {
   "cell_type": "markdown",
   "id": "449c209f",
   "metadata": {},
   "source": [
    "Sebelum melakukan operasi terhadap citra digital, kita harus mengaksesnya dulu seperti berikut"
   ]
  },
  {
   "cell_type": "code",
   "execution_count": 4,
   "id": "577eb17d",
   "metadata": {},
   "outputs": [],
   "source": [
    "CITRA = Image.open(\"gambar.webp\")\n",
    "PIXEL = CITRA.load()"
   ]
  },
  {
   "cell_type": "markdown",
   "id": "c175490d",
   "metadata": {},
   "source": [
    "Untuk mengetahui ukuran gambar yang akan kita olah, gunakan size seperti berikut"
   ]
  },
  {
   "cell_type": "code",
   "execution_count": 5,
   "id": "d6a69bfb",
   "metadata": {},
   "outputs": [
    {
     "name": "stdout",
     "output_type": "stream",
     "text": [
      "(800, 534)\n",
      "800\n",
      "534\n"
     ]
    }
   ],
   "source": [
    "print(CITRA.size)\n",
    "print(CITRA.size[0]) # ukuran horizontal \n",
    "print(CITRA.size[1]) # ukuran vertikal\n"
   ]
  },
  {
   "cell_type": "markdown",
   "id": "2e098bf6",
   "metadata": {},
   "source": [
    "untuk mengonversi suatu citra ke RGB ke grayscale, berikut caranya:"
   ]
  },
  {
   "cell_type": "code",
   "execution_count": 7,
   "id": "c086ff51",
   "metadata": {},
   "outputs": [],
   "source": [
    "CITRA_GRAYSCALE = Image.open(\"gambar.webp\").convert(\"L\") "
   ]
  },
  {
   "cell_type": "markdown",
   "id": "e932cf57",
   "metadata": {},
   "source": [
    "Jika kita telah selesai melakukan operasi-operasi terhadap suatu citra, kita perlu menyimpan hasil pengolahan citranya dengan cara berikut:"
   ]
  },
  {
   "cell_type": "code",
   "execution_count": 8,
   "id": "41c5acae",
   "metadata": {},
   "outputs": [],
   "source": [
    "CITRA_GRAYSCALE.save(\"gambar_grayscale.jpg\")"
   ]
  },
  {
   "cell_type": "markdown",
   "id": "9a869d78",
   "metadata": {},
   "source": [
    "Operasi pada aras titik  \n",
    "Berikan cara mengakses pixel dan nilai RGB dari suatu citra "
   ]
  },
  {
   "cell_type": "code",
   "execution_count": 9,
   "id": "d1636e57",
   "metadata": {},
   "outputs": [
    {
     "name": "stdout",
     "output_type": "stream",
     "text": [
      "(227, 227, 229)\n",
      "227\n",
      "227\n",
      "229\n"
     ]
    }
   ],
   "source": [
    "x = 3\n",
    "y = 8\n",
    "\n",
    "print(PIXEL[x,y])  # nilai RGB pada koordinat (3,8)\n",
    "print(PIXEL[x,y][0])  # nilai R pada koordinat (3,8)\n",
    "print(PIXEL[x,y][1])  # nilai G pada koordinat (3,8)\n",
    "print(PIXEL[x,y][2])  # nilai B pada koordinat (3,8)"
   ]
  },
  {
   "cell_type": "markdown",
   "id": "00707474",
   "metadata": {},
   "source": [
    "Dan berikut cara mengubah RGB dari suatu pixel:"
   ]
  },
  {
   "cell_type": "code",
   "execution_count": 10,
   "id": "7ba11a7b",
   "metadata": {},
   "outputs": [],
   "source": [
    "PIXEL[3, 8] = (0, 0, 0) # mengubah nilai pixel pada koordinat (3,8) menjadi hitam"
   ]
  },
  {
   "cell_type": "markdown",
   "id": "374954e3",
   "metadata": {},
   "source": [
    "Operasi pada aras titik"
   ]
  },
  {
   "cell_type": "markdown",
   "id": "508f4e2b",
   "metadata": {},
   "source": [
    "Berikut cara mengakses pixel dan nilai RGB dari suatu citra:"
   ]
  },
  {
   "cell_type": "code",
   "execution_count": null,
   "id": "347263de",
   "metadata": {},
   "outputs": [],
   "source": []
  },
  {
   "cell_type": "code",
   "execution_count": 12,
   "id": "a6424462",
   "metadata": {},
   "outputs": [],
   "source": [
    "from PIL import Image\n",
    "\n",
    "# fungsi citra biner\n",
    "def citra_biner(nilai_ambang):\n",
    "    # konversi gambar RGB ke grayscale\n",
    "    # https://stackoverflow.com/a/18778280/9157799\n",
    "    CITRA_GRAYSCALE = Image.open('gambar.webp').convert('L')\n",
    "    PIXEL_GRAYSCALE = CITRA_GRAYSCALE.load()\n",
    "\n",
    "    ukuran_horizontal = CITRA_GRAYSCALE.size[0]\n",
    "    ukuran_vertikal = CITRA_GRAYSCALE.size[1]\n",
    "\n",
    "    for x in range(ukuran_horizontal):\n",
    "        for y in range(ukuran_vertikal):\n",
    "            if PIXEL_GRAYSCALE[x, y] < nilai_ambang:\n",
    "                PIXEL_GRAYSCALE[x, y] = 0\n",
    "            else:\n",
    "                PIXEL_GRAYSCALE[x, y] = 255\n",
    "\n",
    "    nama_setelah_disave = 'gambar_biner_' + str(nilai_ambang) + '.jpg'\n",
    "    CITRA_GRAYSCALE.save(nama_setelah_disave)\n",
    "\n",
    "\n",
    "citra_biner(50)\n",
    "citra_biner(128)\n",
    "citra_biner(200)\n",
    "citra_biner(230)"
   ]
  },
  {
   "cell_type": "code",
   "execution_count": 14,
   "id": "66b0bec5",
   "metadata": {},
   "outputs": [],
   "source": [
    "from PIL import Image\n",
    "\n",
    "CITRA = Image.open('gambar.webp')\n",
    "\n",
    "ukuran_horizontal = CITRA.size[0]\n",
    "ukuran_vertikal = CITRA.size[1]\n",
    "\n",
    "PIXEL = CITRA.load()\n",
    "\n",
    "for x in range(ukuran_horizontal):\n",
    "    for y in range(ukuran_vertikal):\n",
    "        R = 255 - PIXEL[x, y][0]\n",
    "        G = 255 - PIXEL[x, y][1]\n",
    "        B = 255 - PIXEL[x, y][2]\n",
    "        PIXEL[x, y] = (R, G, B)\n",
    "\n",
    "CITRA.save('gambar_negatif.jpg')"
   ]
  }
 ],
 "metadata": {
  "kernelspec": {
   "display_name": "Python 3",
   "language": "python",
   "name": "python3"
  },
  "language_info": {
   "codemirror_mode": {
    "name": "ipython",
    "version": 3
   },
   "file_extension": ".py",
   "mimetype": "text/x-python",
   "name": "python",
   "nbconvert_exporter": "python",
   "pygments_lexer": "ipython3",
   "version": "3.12.10"
  }
 },
 "nbformat": 4,
 "nbformat_minor": 5
}
