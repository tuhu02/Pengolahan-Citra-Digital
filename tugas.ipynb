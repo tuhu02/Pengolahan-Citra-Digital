{
 "cells": [
  {
   "cell_type": "markdown",
   "id": "cc53848f",
   "metadata": {},
   "source": [
    "# Tugas Pengolahan Citra Digital"
   ]
  },
  {
   "cell_type": "markdown",
   "id": "d5e81383",
   "metadata": {},
   "source": [
    "Nama : Tuhu Pangestu  \n",
    "NIM : 230411100096  \n",
    "Matakuliah : Pengolahan Citra"
   ]
  },
  {
   "cell_type": "markdown",
   "id": "b0fc174e",
   "metadata": {},
   "source": [
    "## Representasi Citra \n",
    "\n",
    "Di bagian ini, kita akan merepresentasikan sebuah citra (foto diri) secara digital. Sesuai dengan materi Bab 2, citra digital dapat dianggap sebagai fungsi:  \n",
    "  \n",
    "f(x,y)f(x,y)  \n",
    "  \n",
    "f(x,y)  \n",
    "  \n",
    "yang direpresentasikan dalam bentuk matriks berukuran **N baris** dan **M kolom**. Setiap elemen matriks atau **piksel** memiliki nilai intensitas (derajat keabuan)."
   ]
  },
  {
   "cell_type": "markdown",
   "id": "78f6e72b",
   "metadata": {},
   "source": [
    "Implementasi kode"
   ]
  },
  {
   "cell_type": "code",
   "execution_count": null,
   "id": "bf7991e2",
   "metadata": {},
   "outputs": [],
   "source": [
    "import cv2"
   ]
  },
  {
   "cell_type": "markdown",
   "id": "4e54564e",
   "metadata": {},
   "source": [
    "# Operasi Dasar Citra"
   ]
  },
  {
   "cell_type": "markdown",
   "id": "d490c8b5",
   "metadata": {},
   "source": [
    "Pada bagian ini, dilakukan implementasi 5 jenis operasi dasar pada citra. Operasi-operasi ini termasuk dalam kategori Aras Titik (pointwise), di mana modifikasi dilakukan pada setiap piksel secara individual."
   ]
  },
  {
   "cell_type": "markdown",
   "id": "3e93e54e",
   "metadata": {},
   "source": [
    "Operasi 1: Pencerahan Citra (Image Brightening)"
   ]
  },
  {
   "cell_type": "markdown",
   "id": "1c32651d",
   "metadata": {},
   "source": [
    "Operasi 2: Operasi Negatif (Negative Image)"
   ]
  },
  {
   "cell_type": "markdown",
   "id": "eaedd395",
   "metadata": {},
   "source": [
    "Operasi 3: Pengambangan (Thresholding)"
   ]
  },
  {
   "cell_type": "markdown",
   "id": "aa876804",
   "metadata": {},
   "source": [
    "Operasi 4: Penskalaan Citra (Image Zooming)"
   ]
  },
  {
   "cell_type": "markdown",
   "id": "46570700",
   "metadata": {},
   "source": [
    "Operasi 5: Flipping (Pencerminan)"
   ]
  }
 ],
 "metadata": {
  "language_info": {
   "name": "python"
  }
 },
 "nbformat": 4,
 "nbformat_minor": 5
}
