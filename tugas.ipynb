{
 "cells": [
  {
   "cell_type": "markdown",
   "id": "cc53848f",
   "metadata": {},
   "source": [
    "# Tugas Pengolahan Citra Digital"
   ]
  },
  {
   "cell_type": "markdown",
   "id": "d5e81383",
   "metadata": {},
   "source": [
    "Nama : Tuhu Pangestu  \n",
    "NIM : 230411100096  \n",
    "Matakuliah : Pengolahan Citra"
   ]
  },
  {
   "cell_type": "markdown",
   "id": "b0fc174e",
   "metadata": {},
   "source": [
    "## Representasi Citra \n",
    "\n",
    "Di bagian ini, kita akan merepresentasikan sebuah citra (foto diri) secara digital. Sesuai dengan materi Bab 2, citra digital dapat dianggap sebagai fungsi:  \n",
    "  \n",
    "$ f(x,y)f(x,y) $  \n",
    "$ f(x,y) $ \n",
    "  \n",
    "yang direpresentasikan dalam bentuk matriks berukuran **N baris** dan **M kolom**. Setiap elemen matriks atau **piksel** memiliki nilai intensitas (derajat keabuan)."
   ]
  },
  {
   "cell_type": "markdown",
   "id": "78f6e72b",
   "metadata": {},
   "source": [
    "Implementasi kode"
   ]
  },
  {
   "cell_type": "code",
   "execution_count": null,
   "id": "70b8c563",
   "metadata": {},
   "outputs": [],
   "source": [
    "# Library yang digunakan\n",
    "from PIL import Image \n",
    "from numpy import asarray\n",
    "import cv2 \n",
    "import numpy as np\n"
   ]
  },
  {
   "cell_type": "code",
   "execution_count": null,
   "id": "bf7991e2",
   "metadata": {},
   "outputs": [
    {
     "name": "stdout",
     "output_type": "stream",
     "text": [
      "WEBP\n",
      "(800, 534)\n",
      "RGB\n"
     ]
    }
   ],
   "source": [
    "img = Image.open(\"gambar.webp\")\n",
    "\n",
    "print(img.format)\n",
    "print(img.size)\n",
    "print(img.mode)"
   ]
  },
  {
   "cell_type": "code",
   "execution_count": null,
   "id": "b08a5baa",
   "metadata": {},
   "outputs": [
    {
     "name": "stdout",
     "output_type": "stream",
     "text": [
      "[[[233 233 233]\n",
      "  [233 233 233]\n",
      "  [233 233 233]\n",
      "  ...\n",
      "  [181 206 218]\n",
      "  [181 206 218]\n",
      "  [181 206 218]]\n",
      "\n",
      " [[233 233 233]\n",
      "  [233 233 233]\n",
      "  [233 233 233]\n",
      "  ...\n",
      "  [181 206 218]\n",
      "  [181 206 218]\n",
      "  [181 206 218]]\n",
      "\n",
      " [[233 233 233]\n",
      "  [233 233 233]\n",
      "  [233 233 233]\n",
      "  ...\n",
      "  [181 206 218]\n",
      "  [181 206 218]\n",
      "  [181 206 218]]\n",
      "\n",
      " ...\n",
      "\n",
      " [[146 166 180]\n",
      "  [146 166 180]\n",
      "  [146 166 180]\n",
      "  ...\n",
      "  [103  50  54]\n",
      "  [102  48  48]\n",
      "  [107  53  51]]\n",
      "\n",
      " [[146 166 182]\n",
      "  [146 166 182]\n",
      "  [146 166 182]\n",
      "  ...\n",
      "  [107  54  58]\n",
      "  [105  50  50]\n",
      "  [107  53  51]]\n",
      "\n",
      " [[146 166 182]\n",
      "  [146 166 182]\n",
      "  [146 166 182]\n",
      "  ...\n",
      "  [109  56  60]\n",
      "  [106  51  51]\n",
      "  [107  53  51]]]\n"
     ]
    }
   ],
   "source": [
    "data = asarray(img)\n",
    "print(data)"
   ]
  },
  {
   "cell_type": "markdown",
   "id": "4e54564e",
   "metadata": {},
   "source": [
    "# Operasi Dasar Citra"
   ]
  },
  {
   "cell_type": "markdown",
   "id": "d490c8b5",
   "metadata": {},
   "source": [
    "Pada bagian ini, dilakukan implementasi 5 jenis operasi dasar pada citra. Operasi-operasi ini termasuk dalam kategori Aras Titik (pointwise), di mana modifikasi dilakukan pada setiap piksel secara individual."
   ]
  },
  {
   "cell_type": "markdown",
   "id": "3e93e54e",
   "metadata": {},
   "source": [
    "Operasi 1: Pencerahan Citra (Image Brightening)"
   ]
  },
  {
   "cell_type": "code",
   "execution_count": null,
   "id": "36dda325",
   "metadata": {},
   "outputs": [],
   "source": [
    "def adjust_brightnes(image_path, beta):\n",
    "    image = cv2.imread(image_path)\n",
    "    if image is None:\n",
    "        print(\"Error: Image not found.\")\n",
    "        return\n",
    "\n",
    "    # Adjust brightness\n",
    "    adjusted = cv2.convertScaleAbs(image, alpha=1, beta=beta)\n",
    "    cv2.imshow('Original Image',image)\n",
    "    cv2.imshow('Brightness Adjusted', adjusted)\n",
    "    cv2.waitKey(0)\n",
    "    cv2.destroyAllWindows()\n",
    "\n",
    "image_path = \"gambar.webp\"\n",
    "brightness_value = 50\n",
    "adjust_brightnes(image_path, brightness_value)"
   ]
  },
  {
   "cell_type": "markdown",
   "id": "1c32651d",
   "metadata": {},
   "source": [
    "Operasi 2: Operasi Negatif (Negative Image)"
   ]
  },
  {
   "cell_type": "code",
   "execution_count": null,
   "id": "82e6f1c3",
   "metadata": {},
   "outputs": [],
   "source": [
    "def clipping(intensitas):\n",
    "    if intensitas < 0:\n",
    "        return 0\n",
    "    if intensitas > 255:\n",
    "        return 255\n",
    "    return intensitas\n",
    "\n",
    "def atur_pencerahan(nilai_pencerahan, nama_setelah_disave):\n",
    "    CITRA = Image.open('gambar.webp')\n",
    "    PIXEL = CITRA.load()\n",
    "\n",
    "    ukuran_horizontal = CITRA.size[0]\n",
    "    ukuran_vertikal = CITRA.size[1]\n",
    "\n",
    "    for x in range(ukuran_horizontal):\n",
    "        for y in range(ukuran_vertikal):\n",
    "            R = clipping(PIXEL[x,y][0] + nilai_pencerahan)\n",
    "            G = clipping(PIXEL[x,y][1] + nilai_pencerahan)\n",
    "            B = clipping(PIXEL[x,y][2] + nilai_pencerahan)\n",
    "            PIXEL[x,y] = (R, G, B)\n",
    "\n",
    "    CITRA.save(nama_setelah_disave)\n",
    "\n",
    "atur_pencerahan(80,'gambar_setelah_ditingkatkan.jpg')\n",
    "atur_pencerahan(-80,'gambar_setelah_dikurangi.jpg')"
   ]
  },
  {
   "cell_type": "markdown",
   "id": "eaedd395",
   "metadata": {},
   "source": [
    "Operasi 3: Pengambangan (Thresholding)"
   ]
  },
  {
   "cell_type": "code",
   "execution_count": null,
   "id": "54ee0996",
   "metadata": {},
   "outputs": [],
   "source": [
    "def thresholding(image_array, threshold):\n",
    "    # Buat array baru untuk hasil threshold\n",
    "    result = np.where(image_array > threshold, 255, 0)\n",
    "    # Jika gambar RGB, lakukan thresholding pada setiap channel\n",
    "    if len(result.shape) == 3:\n",
    "        result = result.astype(np.uint8)\n",
    "    else:\n",
    "        result = result.astype(np.uint8)\n",
    "    # Konversi kembali ke gambar PIL\n",
    "    img_threshold = Image.fromarray(result)\n",
    "    img_threshold.save(\"gambar_threshold.webp\")\n",
    "    img_threshold.show()\n",
    "\n",
    "# Contoh penggunaan\n",
    "threshold_value = 128\n",
    "thresholding(data, threshold_value)"
   ]
  },
  {
   "cell_type": "markdown",
   "id": "aa876804",
   "metadata": {},
   "source": [
    "Operasi 4: Penskalaan Citra (Image Zooming)"
   ]
  },
  {
   "cell_type": "code",
   "execution_count": null,
   "id": "30353da3",
   "metadata": {},
   "outputs": [],
   "source": [
    "def translasi(m, n):\n",
    "    CITRA = Image.open('gambar.webp')\n",
    "    PIXEL = CITRA.load()\n",
    "\n",
    "    ukuran_horizontal = CITRA.size[0]\n",
    "    ukuran_vertikal = CITRA.size[1]\n",
    "\n",
    "    CITRA_BARU = Image.new(\"RGB\", (ukuran_horizontal, ukuran_vertikal))\n",
    "    PIXEL_BARU = CITRA_BARU.load()\n",
    "\n",
    "    start_m = m\n",
    "    start_n = n\n",
    "\n",
    "    for x in range(ukuran_horizontal):\n",
    "        for y in range(ukuran_vertikal):\n",
    "            x_baru = x + m\n",
    "            y_baru = y - n\n",
    "\n",
    "            if(x_baru >= ukuran_horizontal or y_baru >= ukuran_vertikal or x_baru < 0 or y_baru < 0):\n",
    "                PIXEL_BARU[x,y] = (0,0,0)\n",
    "            else:\n",
    "                PIXEL_BARU[x,y] = PIXEL[x_baru,y_baru]\n",
    "\n",
    "    nama_setelah_disave = \"gambar_translasi\" + str(m) + \"_\" + str(n) + \".webp\"\n",
    "    CITRA_BARU.save(nama_setelah_disave)\n",
    "\n",
    "translasi(50, 50)\n",
    "translasi(-50, -50)"
   ]
  },
  {
   "cell_type": "markdown",
   "id": "46570700",
   "metadata": {},
   "source": [
    "Operasi 5: Flipping (Pencerminan)"
   ]
  },
  {
   "cell_type": "code",
   "execution_count": null,
   "id": "b8f5d154",
   "metadata": {},
   "outputs": [],
   "source": [
    "def flipping(image_path, mode='horizontal'):\n",
    "    img = Image.open(image_path)\n",
    "    if mode == 'horizontal':\n",
    "        flipped_img = img.transpose(Image.FLIP_LEFT_RIGHT)\n",
    "    elif mode == 'vertical':\n",
    "        flipped_img = img.transpose(Image.FLIP_TOP_BOTTOM)\n",
    "    else:\n",
    "        print(\"Mode harus 'horizontal' atau 'vertical'\")\n",
    "        return\n",
    "    flipped_img.save(f\"gambar_flipped_{mode}.webp\")\n",
    "    flipped_img.show()\n",
    "\n",
    "# Contoh penggunaan\n",
    "flipping(image_path, mode='horizontal')\n",
    "flipping(image_path, mode='vertical')"
   ]
  }
 ],
 "metadata": {
  "kernelspec": {
   "display_name": "Python 3",
   "language": "python",
   "name": "python3"
  },
  "language_info": {
   "codemirror_mode": {
    "name": "ipython",
    "version": 3
   },
   "file_extension": ".py",
   "mimetype": "text/x-python",
   "name": "python",
   "nbconvert_exporter": "python",
   "pygments_lexer": "ipython3",
   "version": "3.12.10"
  }
 },
 "nbformat": 4,
 "nbformat_minor": 5
}
